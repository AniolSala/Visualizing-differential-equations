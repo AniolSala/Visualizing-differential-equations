{
 "cells": [
  {
   "cell_type": "markdown",
   "metadata": {},
   "source": [
    "# Particle in a cone"
   ]
  },
  {
   "cell_type": "markdown",
   "metadata": {},
   "source": [
    "### Libraries"
   ]
  },
  {
   "cell_type": "code",
   "execution_count": 1,
   "metadata": {},
   "outputs": [],
   "source": [
    "import numpy as np\n",
    "import matplotlib.pyplot as plt\n",
    "import mpl_toolkits.mplot3d.axes3d as p3\n",
    "import matplotlib.animation as animation\n",
    "from matplotlib import rc\n",
    "from IPython.display import HTML, Image\n",
    "%matplotlib inline"
   ]
  },
  {
   "cell_type": "markdown",
   "metadata": {},
   "source": [
    "### Solution of the ecuations"
   ]
  },
  {
   "cell_type": "code",
   "execution_count": 5,
   "metadata": {},
   "outputs": [],
   "source": [
    "from scipy.constants import g\n",
    "from dif_eq_solver import DiffEqSolver\n",
    "\n",
    "\n",
    "def derivates(t, y):\n",
    "    '''\n",
    "    Here we compute dy/dt. As the\n",
    "    problem corresponds to a particle\n",
    "    moving on the surface of a cone,\n",
    "    the variables describing the position\n",
    "    of the particle are z and theta (3D\n",
    "    polar coordinates)\n",
    "\n",
    "    '''\n",
    "\n",
    "    z_acc = (y[0] * y[3]**2 * tan_alpha**2 - g) / (1 + tan_alpha**2)\n",
    "    theta_acc = - 2 * y[2] * y[3] / y[0]\n",
    "\n",
    "    return np.array([y[2], y[3], z_acc, theta_acc])\n",
    "\n",
    "def calc_energy(solution, time_steps):\n",
    "    energy = np.empty((len(solution), 4))\n",
    "    energy[:, 0] = time_steps\n",
    "    T = 0.5 * m * solution[:, 2] ** 2 * (1 + tan_alpha ** 2) + \\\n",
    "        0.5 * m * solution[:, 0] ** 2 * solution[:, 3] ** 2 * \\\n",
    "        tan_alpha ** 2\n",
    "    V = - m * g * solution[:, 0]\n",
    "    energy[:, 1] = T\n",
    "    energy[:, 2] = V\n",
    "    energy[:, 3] = T + V\n",
    "    np.savetxt('cone_energy.txt', energy)\n",
    "    return energy\n",
    "\n",
    "def to_cartesian(y):\n",
    "    '''\n",
    "    If the solution is a SolutionObject, then the data is in a\n",
    "    pandas dataframe object.\n",
    "\n",
    "    '''\n",
    "    _z = y[0]\n",
    "    _x = np.cos(y[1]) * _z * tan_alpha\n",
    "    _y = np.sin(y[1]) * _z * tan_alpha\n",
    "    return _x, _y, _z\n",
    "\n",
    "# Constants of the problem\n",
    "alpha = 15\n",
    "m, tan_alpha = 1.0, np.tan(alpha * np.pi / 180.0)\n",
    "\n",
    "# Initial conditions\n",
    "z0, theta0, z0_vel, theta0_vel = 1.5, 0., 0., np.pi * 2\n",
    "ti, tf = 0.0, 10\n",
    "h = .01\n",
    "initial_conditions = np.array([z0, theta0, z0_vel, theta0_vel])\n",
    "\n",
    "# Calculate the solution\n",
    "cone_eqs_solver = DiffEqSolver(derivates, method='rk4')\n",
    "solution = cone_eqs_solver.solve_eqs(initial_conditions, ti, tf, h, save=True, file_name='cone_solution_polar.txt')"
   ]
  },
  {
   "cell_type": "markdown",
   "metadata": {},
   "source": [
    "### Representation"
   ]
  },
  {
   "cell_type": "code",
   "execution_count": null,
   "metadata": {},
   "outputs": [],
   "source": [
    "x, y, z = to_cartesian(solution)\n",
    "ax_plot = solution.fast_plot(x, y, z)\n",
    "ax_plot.set_xticks(np.linspace(min(x), max(x), 4))\n",
    "ax_plot.set_yticks(np.linspace(min(x), max(x), 4))"
   ]
  },
  {
   "cell_type": "markdown",
   "metadata": {},
   "source": [
    "### Animation"
   ]
  },
  {
   "cell_type": "code",
   "execution_count": 18,
   "metadata": {},
   "outputs": [],
   "source": [
    "rc('animation', html='html5', writer='imagemagick')"
   ]
  },
  {
   "cell_type": "code",
   "execution_count": null,
   "metadata": {},
   "outputs": [],
   "source": [
    "#Be sure to execute the previous 'Representation' code above to define x, y, z!\n",
    "t = cone_eqs_solver.time_steps\n",
    "\n",
    "# Attaching 3D axis to the figure\n",
    "fig = plt.figure(figsize=(10, 10))\n",
    "ax = p3.Axes3D(fig)\n",
    "\n",
    "annotate = ax.text(min(x), min(y), max(z), 't(s) = {}'.format(t[0]), size=20)\n",
    "num_frames = 500\n",
    "def update_lines(num, dataLines, lines):\n",
    "    for line, data in zip(lines, dataLines):\n",
    "        # NOTE: there is no .set_data() for 3 dim data...\n",
    "        line.set_data(data[0:2, :num * len(x) // num_frames])\n",
    "        line.set_3d_properties(data[2, :num * len(x) // num_frames])\n",
    "    ax.view_init(azim=num / num_frames * 80)\n",
    "    annotate.set_text('t(s) = {}'.format(round(t[num * len(t) // num_frames], 1)))\n",
    "    return lines\n",
    "\n",
    "\n",
    "# Lines of random 3-D lines\n",
    "path = np.array([x, y, z])\n",
    "data = [path]\n",
    "\n",
    "# Creating fifty line objects.\n",
    "# NOTE: Can't pass empty arrays into 3d version of plot()\n",
    "lines = [ax.plot(dat[0, 0:1], dat[1, 0:1], dat[2, 0:1])[0] for dat in data]\n",
    "\n",
    "# Setting the axes properties\n",
    "ax.set_xlim3d([min(x), max(x)])\n",
    "ax.set_xlabel('X (m)')\n",
    "\n",
    "ax.set_ylim3d([min(y), max(y)])\n",
    "ax.set_ylabel('Y (m)')\n",
    "\n",
    "ax.set_zlim3d([0, max(z)])\n",
    "ax.set_zlabel('Z (m)')\n",
    "\n",
    "# Creating the Animation object\n",
    "line_ani = animation.FuncAnimation(fig, update_lines, frames=num_frames, fargs=(data, lines),\n",
    "                                   interval=50, blit=False)\n",
    "line_ani.save('particle_cone_3.gif', writer = \"imagemagick\", fps=50, dpi=40)\n",
    "\n",
    "Image('particle_cone_3.gif')"
   ]
  },
  {
   "cell_type": "code",
   "execution_count": null,
   "metadata": {},
   "outputs": [],
   "source": []
  }
 ],
 "metadata": {
  "kernelspec": {
   "display_name": "Python 3",
   "language": "python",
   "name": "python3"
  },
  "language_info": {
   "codemirror_mode": {
    "name": "ipython",
    "version": 3
   },
   "file_extension": ".py",
   "mimetype": "text/x-python",
   "name": "python",
   "nbconvert_exporter": "python",
   "pygments_lexer": "ipython3",
   "version": "3.6.7"
  }
 },
 "nbformat": 4,
 "nbformat_minor": 2
}
